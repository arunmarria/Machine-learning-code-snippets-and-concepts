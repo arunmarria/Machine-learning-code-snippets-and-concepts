{
 "cells": [
  {
   "cell_type": "markdown",
   "metadata": {},
   "source": [
    "### Likelihood function "
   ]
  },
  {
   "cell_type": "code",
   "execution_count": 4,
   "metadata": {},
   "outputs": [
    {
     "name": "stderr",
     "output_type": "stream",
     "text": [
      "Warning message:\n",
      "\"package 'tidyverse' was built under R version 3.5.3\"\n",
      "-- \u001b[1mAttaching packages\u001b[22m --------------------------------------- tidyverse 1.3.0 --\n",
      "\n",
      "\u001b[32mv\u001b[39m \u001b[34mggplot2\u001b[39m 3.2.1     \u001b[32mv\u001b[39m \u001b[34mpurrr  \u001b[39m 0.3.3\n",
      "\u001b[32mv\u001b[39m \u001b[34mtibble \u001b[39m 2.1.3     \u001b[32mv\u001b[39m \u001b[34mdplyr  \u001b[39m 0.8.3\n",
      "\u001b[32mv\u001b[39m \u001b[34mtidyr  \u001b[39m 1.0.0     \u001b[32mv\u001b[39m \u001b[34mstringr\u001b[39m 1.4.0\n",
      "\u001b[32mv\u001b[39m \u001b[34mreadr  \u001b[39m 1.3.1     \u001b[32mv\u001b[39m \u001b[34mforcats\u001b[39m 0.4.0\n",
      "\n",
      "Warning message:\n",
      "\"package 'ggplot2' was built under R version 3.5.3\"\n",
      "Warning message:\n",
      "\"package 'tibble' was built under R version 3.5.3\"\n",
      "Warning message:\n",
      "\"package 'tidyr' was built under R version 3.5.3\"\n",
      "Warning message:\n",
      "\"package 'readr' was built under R version 3.5.3\"\n",
      "Warning message:\n",
      "\"package 'purrr' was built under R version 3.5.3\"\n",
      "Warning message:\n",
      "\"package 'dplyr' was built under R version 3.5.3\"\n",
      "Warning message:\n",
      "\"package 'stringr' was built under R version 3.5.3\"\n",
      "Warning message:\n",
      "\"package 'forcats' was built under R version 3.5.3\"\n",
      "-- \u001b[1mConflicts\u001b[22m ------------------------------------------ tidyverse_conflicts() --\n",
      "\u001b[31mx\u001b[39m \u001b[34mdplyr\u001b[39m::\u001b[32mfilter()\u001b[39m masks \u001b[34mstats\u001b[39m::filter()\n",
      "\u001b[31mx\u001b[39m \u001b[34mdplyr\u001b[39m::\u001b[32mlag()\u001b[39m    masks \u001b[34mstats\u001b[39m::lag()\n",
      "\n"
     ]
    }
   ],
   "source": [
    "library(tidyverse)"
   ]
  },
  {
   "cell_type": "code",
   "execution_count": 2,
   "metadata": {},
   "outputs": [],
   "source": [
    "# gaussin distribution with mean =173 and sd 3\n",
    "gauss_sample <- rnorm(n = 10, mean = 173, sd = 3)"
   ]
  },
  {
   "cell_type": "code",
   "execution_count": 5,
   "metadata": {},
   "outputs": [],
   "source": [
    "#` Calculates the likelihood function of a Gaussian with  \n",
    "#` unknown mean and known variance.\n",
    "#`\n",
    "#` @param mu A vector of points to calculate the likelihood at\n",
    "#` @param sigma A scalar for the known standard deviation\n",
    "#` @param x A vector of the fixed sample to be used in the likelihood function.\n",
    "#` \n",
    "#` @return A tibble with two columns mu and the respective likelihood values\n",
    "gaussian_likelihood <- function(mu, sigma, x){\n",
    "    likelihood <- NULL\n",
    "    index <-1\n",
    "    for (m in mu){\n",
    "        likelihood[index] <- prod(dnorm(x, m, sigma))\n",
    "        index <- index + 1\n",
    "    }\n",
    "    \n",
    "    data <- tibble(mu = mu, likelihood = likelihood)\n",
    "    return(data)\n",
    "}\n",
    "\n",
    "likelihood_df <- gaussian_likelihood(mu = seq(169, 177, 0.1), 3, gauss_sample)"
   ]
  },
  {
   "cell_type": "code",
   "execution_count": 8,
   "metadata": {},
   "outputs": [
    {
     "data": {
      "text/html": [
       "<table>\n",
       "<caption>A tibble: 1 × 2</caption>\n",
       "<thead>\n",
       "\t<tr><th scope=col>mu</th><th scope=col>likelihood</th></tr>\n",
       "\t<tr><th scope=col>&lt;dbl&gt;</th><th scope=col>&lt;dbl&gt;</th></tr>\n",
       "</thead>\n",
       "<tbody>\n",
       "\t<tr><td>172.4</td><td>7.008992e-12</td></tr>\n",
       "</tbody>\n",
       "</table>\n"
      ],
      "text/latex": [
       "A tibble: 1 × 2\n",
       "\\begin{tabular}{ll}\n",
       " mu & likelihood\\\\\n",
       " <dbl> & <dbl>\\\\\n",
       "\\hline\n",
       "\t 172.4 & 7.008992e-12\\\\\n",
       "\\end{tabular}\n"
      ],
      "text/markdown": [
       "\n",
       "A tibble: 1 × 2\n",
       "\n",
       "| mu &lt;dbl&gt; | likelihood &lt;dbl&gt; |\n",
       "|---|---|\n",
       "| 172.4 | 7.008992e-12 |\n",
       "\n"
      ],
      "text/plain": [
       "  mu    likelihood  \n",
       "1 172.4 7.008992e-12"
      ]
     },
     "metadata": {},
     "output_type": "display_data"
    }
   ],
   "source": [
    "likelihood_df[likelihood_df$likelihood == max(likelihood_df$likelihood ),]"
   ]
  },
  {
   "cell_type": "markdown",
   "metadata": {},
   "source": [
    "**Intuition**\n",
    "\n",
    "likelihood function minimizes DL divergence which in turn  means minimizing total variance. I.e the variance of between or difference between actual disrtribution's density function and density function based on our estimator's parameters. In this case we found maximum likelhood to be around 172.4 which is close to actual mean."
   ]
  },
  {
   "cell_type": "code",
   "execution_count": 9,
   "metadata": {},
   "outputs": [
    {
     "data": {
      "image/png": "[encoded data removed]",
      "text/plain": [
       "plot without title"
      ]
     },
     "metadata": {
      "image/png": {
       "height": 180,
       "width": 480
      }
     },
     "output_type": "display_data"
    }
   ],
   "source": [
    "\n",
    "options(repr.plot.height = 3, repr.plot.width = 8)\n",
    "\n",
    "ggplot(likelihood_df, aes(x = mu, y = likelihood )) +\n",
    "    geom_line() + \n",
    "    geom_vline(xintercept = mean(gauss_sample), colour ='red') +\n",
    "    labs(x = \"Mu values\", y = \"Likelihood\", title = \"Likelihood plot for gaussian\" )"
   ]
  },
  {
   "cell_type": "code",
   "execution_count": 11,
   "metadata": {},
   "outputs": [
    {
     "data": {
      "text/html": [
       "172.391830147988"
      ],
      "text/latex": [
       "172.391830147988"
      ],
      "text/markdown": [
       "172.391830147988"
      ],
      "text/plain": [
       "[1] 172.3918"
      ]
     },
     "metadata": {},
     "output_type": "display_data"
    }
   ],
   "source": [
    "mean(gauss_sample)# -- so results are pretty close"
   ]
  },
  {
   "cell_type": "markdown",
   "metadata": {},
   "source": [
    "**For Poisson distribution**"
   ]
  },
  {
   "cell_type": "code",
   "execution_count": 12,
   "metadata": {},
   "outputs": [],
   "source": [
    "#` Calculates the likelihood function of a Poisson with  \n",
    "#` unknown lamda.\n",
    "#`\n",
    "#` @param lambda A vector of points to calculate the likelihood at\n",
    "#` @param x A vector of the fixed sample to be used in the likelihood function.\n",
    "#` \n",
    "#` @return A tibble with two columns lambda and the respective likelihood values\n",
    "poisson_likelihood <- function(lambda, x){\n",
    "    likelihood <- NULL\n",
    "    index <-1\n",
    "    for (l in lambda){\n",
    "        likelihood[index] <- prod(dpois(x=x, lambda = l))\n",
    "        index <- index + 1\n",
    "    }\n",
    "    \n",
    "    data <- tibble(lambda = lambda, likelihood = likelihood)\n",
    "    return(data)\n",
    "\n",
    "}"
   ]
  },
  {
   "cell_type": "code",
   "execution_count": 13,
   "metadata": {},
   "outputs": [],
   "source": [
    "\n",
    "#sample\n",
    "pois_sample <- rpois(n = 10, lambda = 200)\n",
    "likelihood_df <- poisson_likelihood(lambda = seq(188, 213, 0.01), pois_sample)"
   ]
  },
  {
   "cell_type": "code",
   "execution_count": 14,
   "metadata": {},
   "outputs": [
    {
     "data": {
      "image/png": "[encoded data removed]",
      "text/plain": [
       "plot without title"
      ]
     },
     "metadata": {
      "image/png": {
       "height": 180,
       "width": 480
      }
     },
     "output_type": "display_data"
    }
   ],
   "source": [
    "\n",
    "#plot of likelihood\n",
    "\n",
    "options(repr.plot.height = 3, repr.plot.width = 8)\n",
    "\n",
    "ggplot(likelihood_df, aes(x = lambda, y = likelihood )) +\n",
    "    geom_line() + \n",
    "    geom_vline(xintercept = mean(pois_sample), colour ='red') +\n",
    "    labs(x = \"Lambda values\", y = \"Likelihood\", title = \"Likelihood plot for Poisson\" )"
   ]
  },
  {
   "cell_type": "markdown",
   "metadata": {},
   "source": [
    "**For Exponential case**"
   ]
  },
  {
   "cell_type": "code",
   "execution_count": 15,
   "metadata": {},
   "outputs": [
    {
     "name": "stdout",
     "output_type": "stream",
     "text": [
      "[1] \"The maximum value for likelihood is , 0.179526974685075\"\n"
     ]
    },
    {
     "data": {
      "image/png": "[encoded data removed]",
      "text/plain": [
       "plot without title"
      ]
     },
     "metadata": {
      "image/png": {
       "height": 180,
       "width": 480
      }
     },
     "output_type": "display_data"
    }
   ],
   "source": [
    "\n",
    "#` Calculates the likelihood function of a Exponential with  \n",
    "#` unknown rate\n",
    "#`\n",
    "#` @param rate A vector of points to calculate the likelihood at\n",
    "#` @param x A vector of the fixed sample to be used in the likelihood function.\n",
    "#` \n",
    "#` @return A tibble with two columns rate and the respective likelihood values\n",
    "exponential_likelihood <- function(rate, x){\n",
    "    likelihood <- NULL\n",
    "    index <-1\n",
    "    for (r in rate){\n",
    "        likelihood[index] <- prod(dexp(x=x, rate = r))\n",
    "        index <- index + 1\n",
    "    }\n",
    "    \n",
    "    data <- tibble(rate = rate, likelihood = likelihood)\n",
    "    return(data)\n",
    "\n",
    "}\n",
    "\n",
    "# sample\n",
    "exp_sample <- rexp(n = 10, rate = 2)\n",
    "likelihood_df <- exponential_likelihood(rate = seq(0, 4, 0.01), exp_sample)\n",
    "\n",
    "# arranging results\n",
    "likelihood_df <- arrange(likelihood_df,desc(likelihood))\n",
    "\n",
    "\n",
    "print(paste(\"The maximum value for likelihood is ,\" ,max(likelihood_df$likelihood)))\n",
    "\n",
    "\n",
    "#plot of likelihood\n",
    "\n",
    "options(repr.plot.height = 3, repr.plot.width = 8)\n",
    "\n",
    "ggplot(likelihood_df, aes(x = rate, y = likelihood )) +\n",
    "    geom_line() + \n",
    "    geom_vline(xintercept = likelihood_df[[1,'rate']], colour ='red') +\n",
    "    labs(x = \"Rate values\", y = \"Likelihood\", title = \"Likelihood plot for Exponential\" )"
   ]
  },
  {
   "cell_type": "code",
   "execution_count": null,
   "metadata": {},
   "outputs": [],
   "source": []
  }
 ],
 "metadata": {
  "kernelspec": {
   "display_name": "R",
   "language": "R",
   "name": "ir"
  },
  "language_info": {
   "codemirror_mode": "r",
   "file_extension": ".r",
   "mimetype": "text/x-r-source",
   "name": "R",
   "pygments_lexer": "r",
   "version": "3.5.1"
  }
 },
 "nbformat": 4,
 "nbformat_minor": 4
}
